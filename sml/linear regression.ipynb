{
 "cells": [
  {
   "cell_type": "code",
   "execution_count": 35,
   "id": "a16339fc-cf25-40d9-852e-3430325f996e",
   "metadata": {},
   "outputs": [],
   "source": [
    "import numpy as np\n",
    "import matplotlib.pyplot as plt"
   ]
  },
  {
   "cell_type": "code",
   "execution_count": 21,
   "id": "14ecc177-a5aa-4966-bed0-03683ebb6869",
   "metadata": {},
   "outputs": [],
   "source": [
    "X = 2 * np.random.rand(100,1)\n",
    "y = 4 + 3 * X + np.random.randn(100,1)\n",
    "# generates random number\n",
    "# capital X represents entire dataset\n",
    "#y = mx + b is used for y"
   ]
  },
  {
   "cell_type": "code",
   "execution_count": 14,
   "id": "5e512536-404f-4d49-a97d-7f34ac36d5c3",
   "metadata": {},
   "outputs": [
    {
     "data": {
      "text/plain": [
       "array([[0.11303912],\n",
       "       [0.00790744],\n",
       "       [1.12161367],\n",
       "       [0.05747798],\n",
       "       [0.49900584],\n",
       "       [0.1760168 ],\n",
       "       [1.67585478],\n",
       "       [0.86782668],\n",
       "       [0.3661755 ],\n",
       "       [0.31951297],\n",
       "       [0.84923448],\n",
       "       [0.97752212],\n",
       "       [0.00730333],\n",
       "       [0.68678793],\n",
       "       [0.38406093],\n",
       "       [1.73080527],\n",
       "       [0.49102144],\n",
       "       [1.65939101],\n",
       "       [1.50494872],\n",
       "       [1.58532212],\n",
       "       [0.01257269],\n",
       "       [0.78068753],\n",
       "       [0.15630622],\n",
       "       [0.43243203],\n",
       "       [1.38482242],\n",
       "       [0.80481595],\n",
       "       [0.80900021],\n",
       "       [1.38620049],\n",
       "       [1.75757322],\n",
       "       [1.6175458 ],\n",
       "       [0.05292976],\n",
       "       [0.92419742],\n",
       "       [0.7070672 ],\n",
       "       [0.54957486],\n",
       "       [1.32025676],\n",
       "       [0.02877525],\n",
       "       [1.80947602],\n",
       "       [1.89034115],\n",
       "       [1.15113226],\n",
       "       [1.37308258],\n",
       "       [0.75111264],\n",
       "       [1.04700253],\n",
       "       [0.76003803],\n",
       "       [1.69910575],\n",
       "       [0.75622371],\n",
       "       [1.61768737],\n",
       "       [1.45742177],\n",
       "       [0.41327608],\n",
       "       [1.83695837],\n",
       "       [1.02635925],\n",
       "       [0.60013538],\n",
       "       [1.29388888],\n",
       "       [0.13580607],\n",
       "       [1.67880431],\n",
       "       [1.38370666],\n",
       "       [0.42007881],\n",
       "       [0.35491825],\n",
       "       [0.03102933],\n",
       "       [0.23546446],\n",
       "       [0.05578684],\n",
       "       [0.43033762],\n",
       "       [0.35519231],\n",
       "       [1.26749169],\n",
       "       [0.14717517],\n",
       "       [1.1155208 ],\n",
       "       [1.58899753],\n",
       "       [0.18918791],\n",
       "       [0.12328311],\n",
       "       [0.95944235],\n",
       "       [0.35079531],\n",
       "       [0.72774819],\n",
       "       [0.24143687],\n",
       "       [1.9073178 ],\n",
       "       [0.3206516 ],\n",
       "       [1.28395691],\n",
       "       [1.50861971],\n",
       "       [0.6125275 ],\n",
       "       [1.15700915],\n",
       "       [1.5864353 ],\n",
       "       [1.35488616],\n",
       "       [0.73574805],\n",
       "       [1.44923696],\n",
       "       [1.51013514],\n",
       "       [1.99433702],\n",
       "       [1.38518312],\n",
       "       [1.47354737],\n",
       "       [0.60605443],\n",
       "       [0.01219045],\n",
       "       [1.8564447 ],\n",
       "       [1.12675829],\n",
       "       [1.48826994],\n",
       "       [0.99340285],\n",
       "       [0.72634392],\n",
       "       [0.46359499],\n",
       "       [0.83328416],\n",
       "       [1.39692289],\n",
       "       [0.47655503],\n",
       "       [0.88791648],\n",
       "       [0.2097012 ],\n",
       "       [1.90503766]])"
      ]
     },
     "execution_count": 14,
     "metadata": {},
     "output_type": "execute_result"
    }
   ],
   "source": [
    "X"
   ]
  },
  {
   "cell_type": "code",
   "execution_count": 13,
   "id": "3e55f6e3-2d97-4f74-9457-7d3e26c98480",
   "metadata": {},
   "outputs": [
    {
     "data": {
      "text/plain": [
       "array([[ 3.19425169],\n",
       "       [ 2.36620895],\n",
       "       [ 8.72396422],\n",
       "       [ 3.23093305],\n",
       "       [ 4.64458578],\n",
       "       [ 5.44222593],\n",
       "       [ 9.60440096],\n",
       "       [ 6.04775657],\n",
       "       [ 3.72725223],\n",
       "       [ 5.88812229],\n",
       "       [ 6.60152323],\n",
       "       [ 6.01344733],\n",
       "       [ 5.29311192],\n",
       "       [ 6.48914435],\n",
       "       [ 5.83760459],\n",
       "       [ 9.32369303],\n",
       "       [ 4.67209419],\n",
       "       [ 8.44714569],\n",
       "       [ 7.61036322],\n",
       "       [ 8.8501121 ],\n",
       "       [ 2.00719563],\n",
       "       [ 5.86792437],\n",
       "       [ 3.81424952],\n",
       "       [ 3.14644943],\n",
       "       [ 8.42592458],\n",
       "       [ 6.04964235],\n",
       "       [ 6.74862363],\n",
       "       [ 7.77452735],\n",
       "       [ 8.78882727],\n",
       "       [ 9.13812218],\n",
       "       [ 3.57279201],\n",
       "       [ 6.48427588],\n",
       "       [ 4.96400699],\n",
       "       [ 6.50199179],\n",
       "       [ 7.67882604],\n",
       "       [ 5.8125639 ],\n",
       "       [ 8.71326984],\n",
       "       [ 9.83171062],\n",
       "       [ 7.82227061],\n",
       "       [ 8.07642336],\n",
       "       [ 4.73910469],\n",
       "       [ 6.80310342],\n",
       "       [ 5.92858017],\n",
       "       [ 8.69806578],\n",
       "       [ 6.39444335],\n",
       "       [ 9.44711807],\n",
       "       [ 7.97406379],\n",
       "       [ 5.49876879],\n",
       "       [ 9.01759115],\n",
       "       [ 5.59828437],\n",
       "       [ 5.82269073],\n",
       "       [ 8.13143724],\n",
       "       [ 4.70611205],\n",
       "       [ 8.644977  ],\n",
       "       [ 7.45105722],\n",
       "       [ 5.5142332 ],\n",
       "       [ 4.93698034],\n",
       "       [ 4.16491252],\n",
       "       [ 4.0080658 ],\n",
       "       [ 3.22963994],\n",
       "       [ 5.82451119],\n",
       "       [ 4.0412034 ],\n",
       "       [ 7.41098651],\n",
       "       [ 3.04139839],\n",
       "       [ 8.29570549],\n",
       "       [ 9.07265764],\n",
       "       [ 6.6165469 ],\n",
       "       [ 5.51030823],\n",
       "       [ 7.57045744],\n",
       "       [ 5.04581992],\n",
       "       [ 6.73469612],\n",
       "       [ 4.1780844 ],\n",
       "       [ 8.82967543],\n",
       "       [ 5.07404401],\n",
       "       [ 7.2889535 ],\n",
       "       [ 8.50633216],\n",
       "       [ 3.60807018],\n",
       "       [ 6.96452259],\n",
       "       [ 6.39994575],\n",
       "       [ 7.75631732],\n",
       "       [ 4.91481592],\n",
       "       [ 7.80178812],\n",
       "       [ 8.82372246],\n",
       "       [10.4343684 ],\n",
       "       [ 8.30900327],\n",
       "       [ 8.35733409],\n",
       "       [ 5.72277382],\n",
       "       [ 3.36968755],\n",
       "       [10.60050078],\n",
       "       [ 8.47508272],\n",
       "       [ 8.96452437],\n",
       "       [ 7.83921397],\n",
       "       [ 5.87168147],\n",
       "       [ 5.12308872],\n",
       "       [ 6.67099125],\n",
       "       [ 6.99120356],\n",
       "       [ 4.85059801],\n",
       "       [ 7.56368551],\n",
       "       [ 5.92444689],\n",
       "       [11.04013701]])"
      ]
     },
     "execution_count": 13,
     "metadata": {},
     "output_type": "execute_result"
    }
   ],
   "source": [
    "y"
   ]
  },
  {
   "cell_type": "code",
   "execution_count": 26,
   "id": "b54f5b12-617b-4e82-8bfc-eb34565eb5cc",
   "metadata": {},
   "outputs": [],
   "source": [
    "X_b = np.c_[np.ones((100,1)), X] #add x0 = 1 to each other it is 1 bcoz we dont want to change the value of bias, c= concatenate\n",
    "theta_best = np.linalg.inv(X_b.T.dot(X_b)).dot(X_b.T).dot(y) # dot func. helps in matrix mult.\n",
    "# the formula is (theta hat = X transpose * X inverse * X transpose * y)"
   ]
  },
  {
   "cell_type": "code",
   "execution_count": 27,
   "id": "f3d8f3b0-f2c7-4d03-89f3-337eb45d5ce7",
   "metadata": {},
   "outputs": [
    {
     "data": {
      "text/plain": [
       "array([[1.        , 0.40512671],\n",
       "       [1.        , 0.73597577],\n",
       "       [1.        , 0.94292341],\n",
       "       [1.        , 0.92974196],\n",
       "       [1.        , 1.00689312],\n",
       "       [1.        , 1.74429124],\n",
       "       [1.        , 0.14789072],\n",
       "       [1.        , 0.62625797],\n",
       "       [1.        , 1.55247848],\n",
       "       [1.        , 0.40449686],\n",
       "       [1.        , 0.85352353],\n",
       "       [1.        , 1.0872718 ],\n",
       "       [1.        , 0.12040772],\n",
       "       [1.        , 1.81067165],\n",
       "       [1.        , 0.82053637],\n",
       "       [1.        , 1.8874965 ],\n",
       "       [1.        , 1.75301284],\n",
       "       [1.        , 0.44867174],\n",
       "       [1.        , 0.21470454],\n",
       "       [1.        , 1.49308198],\n",
       "       [1.        , 1.75988341],\n",
       "       [1.        , 1.4078306 ],\n",
       "       [1.        , 1.25336517],\n",
       "       [1.        , 0.71977338],\n",
       "       [1.        , 1.59615668],\n",
       "       [1.        , 0.13223517],\n",
       "       [1.        , 0.20117984],\n",
       "       [1.        , 1.09196783],\n",
       "       [1.        , 0.57727368],\n",
       "       [1.        , 0.39201352],\n",
       "       [1.        , 1.67905288],\n",
       "       [1.        , 1.48348856],\n",
       "       [1.        , 1.8566193 ],\n",
       "       [1.        , 0.61122066],\n",
       "       [1.        , 1.25713162],\n",
       "       [1.        , 1.58490715],\n",
       "       [1.        , 0.87549954],\n",
       "       [1.        , 0.47301743],\n",
       "       [1.        , 1.3902055 ],\n",
       "       [1.        , 1.85800312],\n",
       "       [1.        , 1.63378181],\n",
       "       [1.        , 1.43833569],\n",
       "       [1.        , 0.38045473],\n",
       "       [1.        , 0.26169653],\n",
       "       [1.        , 0.48984395],\n",
       "       [1.        , 0.19185905],\n",
       "       [1.        , 0.07762547],\n",
       "       [1.        , 1.71208127],\n",
       "       [1.        , 0.37998622],\n",
       "       [1.        , 0.5811247 ],\n",
       "       [1.        , 0.96627335],\n",
       "       [1.        , 0.41083592],\n",
       "       [1.        , 0.06582376],\n",
       "       [1.        , 0.477603  ],\n",
       "       [1.        , 0.80768272],\n",
       "       [1.        , 1.48546318],\n",
       "       [1.        , 0.48309803],\n",
       "       [1.        , 1.22811108],\n",
       "       [1.        , 1.83138055],\n",
       "       [1.        , 1.30565264],\n",
       "       [1.        , 1.87210685],\n",
       "       [1.        , 1.21621257],\n",
       "       [1.        , 1.84002758],\n",
       "       [1.        , 0.27066904],\n",
       "       [1.        , 1.39948947],\n",
       "       [1.        , 0.47015516],\n",
       "       [1.        , 0.47248715],\n",
       "       [1.        , 0.18066154],\n",
       "       [1.        , 1.23212778],\n",
       "       [1.        , 0.86058262],\n",
       "       [1.        , 0.52060722],\n",
       "       [1.        , 1.37106856],\n",
       "       [1.        , 0.02450861],\n",
       "       [1.        , 1.63841922],\n",
       "       [1.        , 0.69990782],\n",
       "       [1.        , 0.61903778],\n",
       "       [1.        , 0.7921358 ],\n",
       "       [1.        , 1.72851877],\n",
       "       [1.        , 1.43605907],\n",
       "       [1.        , 1.73838891],\n",
       "       [1.        , 1.31127042],\n",
       "       [1.        , 0.77280262],\n",
       "       [1.        , 1.44529731],\n",
       "       [1.        , 0.39049382],\n",
       "       [1.        , 1.26925467],\n",
       "       [1.        , 0.57924838],\n",
       "       [1.        , 0.29031486],\n",
       "       [1.        , 1.38783164],\n",
       "       [1.        , 1.85616515],\n",
       "       [1.        , 0.78092806],\n",
       "       [1.        , 1.49359168],\n",
       "       [1.        , 1.87741384],\n",
       "       [1.        , 0.52192721],\n",
       "       [1.        , 0.37250895],\n",
       "       [1.        , 0.63206895],\n",
       "       [1.        , 1.0058422 ],\n",
       "       [1.        , 1.63004838],\n",
       "       [1.        , 1.1639912 ],\n",
       "       [1.        , 1.31101141],\n",
       "       [1.        , 0.79929906]])"
      ]
     },
     "execution_count": 27,
     "metadata": {},
     "output_type": "execute_result"
    }
   ],
   "source": [
    "X_b"
   ]
  },
  {
   "cell_type": "code",
   "execution_count": 28,
   "id": "c54736c5-790b-464b-af4e-6a829c9ce9ae",
   "metadata": {},
   "outputs": [
    {
     "data": {
      "text/plain": [
       "array([[3.83006745],\n",
       "       [3.07177173]])"
      ]
     },
     "execution_count": 28,
     "metadata": {},
     "output_type": "execute_result"
    }
   ],
   "source": [
    "theta_best"
   ]
  },
  {
   "cell_type": "code",
   "execution_count": 29,
   "id": "bfa9e59e-c11c-4ac7-9662-872cf5739c54",
   "metadata": {},
   "outputs": [],
   "source": [
    "X_new = np.array([[0],[2]])\n",
    "X_new_b = np.c_[np.ones((2,1)), X_new] # add x0 = 1 to each instance\n",
    "y_predict = X_new_b.dot(theta_best)"
   ]
  },
  {
   "cell_type": "code",
   "execution_count": 23,
   "id": "f0d453fc-a38f-4dcc-8953-23300467b5d4",
   "metadata": {},
   "outputs": [
    {
     "data": {
      "text/plain": [
       "array([[0],\n",
       "       [2]])"
      ]
     },
     "execution_count": 23,
     "metadata": {},
     "output_type": "execute_result"
    }
   ],
   "source": [
    "X_new"
   ]
  },
  {
   "cell_type": "code",
   "execution_count": 30,
   "id": "ae6afc02-aaf1-4179-8f78-d087c4cec69a",
   "metadata": {},
   "outputs": [
    {
     "data": {
      "text/plain": [
       "array([[1., 0.],\n",
       "       [1., 2.]])"
      ]
     },
     "execution_count": 30,
     "metadata": {},
     "output_type": "execute_result"
    }
   ],
   "source": [
    "X_new_b"
   ]
  },
  {
   "cell_type": "code",
   "execution_count": 32,
   "id": "c496f987-a480-4415-857f-8cbc0f3c7481",
   "metadata": {},
   "outputs": [
    {
     "data": {
      "text/plain": [
       "array([[3.83006745],\n",
       "       [9.97361091]])"
      ]
     },
     "execution_count": 32,
     "metadata": {},
     "output_type": "execute_result"
    }
   ],
   "source": [
    "y_predict # here the first value i.e 3.83 is close to 4 i.e this no. has to be close to the bias, here 3.83 is x = 0 and 9.97 is x = 2"
   ]
  },
  {
   "cell_type": "code",
   "execution_count": 36,
   "id": "845ec738-387b-4c41-b3ec-1efc97a11e49",
   "metadata": {},
   "outputs": [
    {
     "data": {
      "text/plain": [
       "[<matplotlib.lines.Line2D at 0x1c846fe63d0>]"
      ]
     },
     "execution_count": 36,
     "metadata": {},
     "output_type": "execute_result"
    },
    {
     "data": {
      "image/png": "[encoded data removed]",
      "text/plain": [
       "<Figure size 640x480 with 1 Axes>"
      ]
     },
     "metadata": {},
     "output_type": "display_data"
    }
   ],
   "source": [
    "plt.plot(X_new, y_predict, \"r-\")\n",
    "plt.plot(X, y, \"b.\")"
   ]
  },
  {
   "cell_type": "code",
   "execution_count": null,
   "id": "76efe644-ff47-45ab-a8df-153d8f0e1bea",
   "metadata": {},
   "outputs": [],
   "source": []
  }
 ],
 "metadata": {
  "kernelspec": {
   "display_name": "Python 3 (ipykernel)",
   "language": "python",
   "name": "python3"
  },
  "language_info": {
   "codemirror_mode": {
    "name": "ipython",
    "version": 3
   },
   "file_extension": ".py",
   "mimetype": "text/x-python",
   "name": "python",
   "nbconvert_exporter": "python",
   "pygments_lexer": "ipython3",
   "version": "3.11.7"
  }
 },
 "nbformat": 4,
 "nbformat_minor": 5
}
