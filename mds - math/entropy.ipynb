{
 "cells": [
  {
   "cell_type": "code",
   "execution_count": 1,
   "id": "03d5641e-8b3f-4df5-9694-6fb901895203",
   "metadata": {},
   "outputs": [],
   "source": [
    "import numpy as np"
   ]
  },
  {
   "cell_type": "code",
   "execution_count": 2,
   "id": "e30e301a-981a-4d07-87ba-b4d0880b463c",
   "metadata": {},
   "outputs": [],
   "source": [
    "def entropy(prob_list):\n",
    "    return -np.sum(prob_list*np.log2(prob_list))"
   ]
  },
  {
   "cell_type": "code",
   "execution_count": 3,
   "id": "91a41fdf-7c75-482f-a368-b1aa27b8807b",
   "metadata": {},
   "outputs": [
    {
     "name": "stdout",
     "output_type": "stream",
     "text": [
      "Entropy:  1.4854752972273344\n"
     ]
    }
   ],
   "source": [
    "prob_list = np.array([0.2,0.3,0.5])\n",
    "print(\"Entropy: \", entropy(prob_list))"
   ]
  },
  {
   "cell_type": "code",
   "execution_count": 4,
   "id": "7ef9eda9-5828-496a-b79f-80c28148ae65",
   "metadata": {},
   "outputs": [],
   "source": [
    "#the entropy is computed as the negative sum of the probabilties multiplied by their base 2 logarithms"
   ]
  },
  {
   "cell_type": "code",
   "execution_count": null,
   "id": "ca6ed127-4f14-449f-af03-6a7d509811db",
   "metadata": {},
   "outputs": [],
   "source": []
  }
 ],
 "metadata": {
  "kernelspec": {
   "display_name": "Python 3 (ipykernel)",
   "language": "python",
   "name": "python3"
  },
  "language_info": {
   "codemirror_mode": {
    "name": "ipython",
    "version": 3
   },
   "file_extension": ".py",
   "mimetype": "text/x-python",
   "name": "python",
   "nbconvert_exporter": "python",
   "pygments_lexer": "ipython3",
   "version": "3.11.7"
  }
 },
 "nbformat": 4,
 "nbformat_minor": 5
}
