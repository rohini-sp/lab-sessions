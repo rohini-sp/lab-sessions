{
 "cells": [
  {
   "cell_type": "code",
   "execution_count": 2,
   "id": "a8225aef-6256-45e6-bc2a-68745acfa1c1",
   "metadata": {},
   "outputs": [
    {
     "name": "stdout",
     "output_type": "stream",
     "text": [
      "Original dataFrame:\n",
      "   Product  Price  Year\n",
      "0  Mobile  20000  2014\n",
      "1      AC  20000  2015\n",
      "2  Mobile  22000  2016\n",
      "3    Sofa  19000  2017\n",
      "4  Laptop  45000  2018\n"
     ]
    }
   ],
   "source": [
    "from pandas import DataFrame\n",
    "\n",
    "cart = {\"Product\" : ['Mobile','AC','Mobile','Sofa','Laptop'],\n",
    "      \"Price\" : [20000,20000,22000,19000,45000],\n",
    "       \"Year\" : [2014,2015,2016,2017,2018]\n",
    "       }\n",
    "\n",
    "df = DataFrame(cart, columns=[\"Product\",\"Price\",\"Year\"])\n",
    "print(\"Original dataFrame:\\n\", df)"
   ]
  },
  {
   "cell_type": "code",
   "execution_count": 7,
   "id": "798ed74d-0411-44e9-b03a-b6ecdd0900b7",
   "metadata": {},
   "outputs": [
    {
     "data": {
      "text/html": [
       "<div>\n",
       "<style scoped>\n",
       "    .dataframe tbody tr th:only-of-type {\n",
       "        vertical-align: middle;\n",
       "    }\n",
       "\n",
       "    .dataframe tbody tr th {\n",
       "        vertical-align: top;\n",
       "    }\n",
       "\n",
       "    .dataframe thead th {\n",
       "        text-align: right;\n",
       "    }\n",
       "</style>\n",
       "<table border=\"1\" class=\"dataframe\">\n",
       "  <thead>\n",
       "    <tr style=\"text-align: right;\">\n",
       "      <th></th>\n",
       "      <th>Product</th>\n",
       "      <th>Price</th>\n",
       "      <th>Year</th>\n",
       "    </tr>\n",
       "  </thead>\n",
       "  <tbody>\n",
       "    <tr>\n",
       "      <th>count</th>\n",
       "      <td>5</td>\n",
       "      <td>5.000000</td>\n",
       "      <td>5.000000</td>\n",
       "    </tr>\n",
       "    <tr>\n",
       "      <th>unique</th>\n",
       "      <td>4</td>\n",
       "      <td>NaN</td>\n",
       "      <td>NaN</td>\n",
       "    </tr>\n",
       "    <tr>\n",
       "      <th>top</th>\n",
       "      <td>Mobile</td>\n",
       "      <td>NaN</td>\n",
       "      <td>NaN</td>\n",
       "    </tr>\n",
       "    <tr>\n",
       "      <th>freq</th>\n",
       "      <td>2</td>\n",
       "      <td>NaN</td>\n",
       "      <td>NaN</td>\n",
       "    </tr>\n",
       "    <tr>\n",
       "      <th>mean</th>\n",
       "      <td>NaN</td>\n",
       "      <td>25200.000000</td>\n",
       "      <td>2016.000000</td>\n",
       "    </tr>\n",
       "    <tr>\n",
       "      <th>std</th>\n",
       "      <td>NaN</td>\n",
       "      <td>11122.050171</td>\n",
       "      <td>1.581139</td>\n",
       "    </tr>\n",
       "    <tr>\n",
       "      <th>min</th>\n",
       "      <td>NaN</td>\n",
       "      <td>19000.000000</td>\n",
       "      <td>2014.000000</td>\n",
       "    </tr>\n",
       "    <tr>\n",
       "      <th>25%</th>\n",
       "      <td>NaN</td>\n",
       "      <td>20000.000000</td>\n",
       "      <td>2015.000000</td>\n",
       "    </tr>\n",
       "    <tr>\n",
       "      <th>50%</th>\n",
       "      <td>NaN</td>\n",
       "      <td>20000.000000</td>\n",
       "      <td>2016.000000</td>\n",
       "    </tr>\n",
       "    <tr>\n",
       "      <th>75%</th>\n",
       "      <td>NaN</td>\n",
       "      <td>22000.000000</td>\n",
       "      <td>2017.000000</td>\n",
       "    </tr>\n",
       "    <tr>\n",
       "      <th>max</th>\n",
       "      <td>NaN</td>\n",
       "      <td>45000.000000</td>\n",
       "      <td>2018.000000</td>\n",
       "    </tr>\n",
       "  </tbody>\n",
       "</table>\n",
       "</div>"
      ],
      "text/plain": [
       "       Product         Price         Year\n",
       "count        5      5.000000     5.000000\n",
       "unique       4           NaN          NaN\n",
       "top     Mobile           NaN          NaN\n",
       "freq         2           NaN          NaN\n",
       "mean       NaN  25200.000000  2016.000000\n",
       "std        NaN  11122.050171     1.581139\n",
       "min        NaN  19000.000000  2014.000000\n",
       "25%        NaN  20000.000000  2015.000000\n",
       "50%        NaN  20000.000000  2016.000000\n",
       "75%        NaN  22000.000000  2017.000000\n",
       "max        NaN  45000.000000  2018.000000"
      ]
     },
     "execution_count": 7,
     "metadata": {},
     "output_type": "execute_result"
    }
   ],
   "source": [
    "df.describe(include=\"all\")"
   ]
  },
  {
   "cell_type": "code",
   "execution_count": 4,
   "id": "3464baca-abbc-45e8-98f8-a4ae7f7be886",
   "metadata": {},
   "outputs": [],
   "source": [
    "stats= df['Price'].describe()"
   ]
  },
  {
   "cell_type": "code",
   "execution_count": 5,
   "id": "111509c9-b9f2-46c4-aa0e-39ba3e2d3a2d",
   "metadata": {},
   "outputs": [
    {
     "name": "stdout",
     "output_type": "stream",
     "text": [
      "count        5.000000\n",
      "mean     25200.000000\n",
      "std      11122.050171\n",
      "min      19000.000000\n",
      "25%      20000.000000\n",
      "50%      20000.000000\n",
      "75%      22000.000000\n",
      "max      45000.000000\n",
      "Name: Price, dtype: float64\n"
     ]
    }
   ],
   "source": [
    "print(stats)"
   ]
  },
  {
   "cell_type": "code",
   "execution_count": 8,
   "id": "49c16b56-64f9-45fc-9d53-6719f2f35e4b",
   "metadata": {},
   "outputs": [
    {
     "name": "stdout",
     "output_type": "stream",
     "text": [
      "5\n"
     ]
    }
   ],
   "source": [
    "print(df['Price'].count())"
   ]
  },
  {
   "cell_type": "code",
   "execution_count": 9,
   "id": "5c082e73-01eb-4dcc-ab13-05b507b966a5",
   "metadata": {},
   "outputs": [
    {
     "name": "stdout",
     "output_type": "stream",
     "text": [
      "25200.0\n"
     ]
    }
   ],
   "source": [
    "print(df['Price'].mean())"
   ]
  },
  {
   "cell_type": "code",
   "execution_count": 10,
   "id": "1f5f09e8-7766-4b1c-99b0-5d80b4162a81",
   "metadata": {},
   "outputs": [
    {
     "name": "stdout",
     "output_type": "stream",
     "text": [
      "45000\n"
     ]
    }
   ],
   "source": [
    "print(df['Price'].max())"
   ]
  },
  {
   "cell_type": "code",
   "execution_count": 11,
   "id": "497742b8-d02f-4ed0-bcb6-15ce8d2f06cc",
   "metadata": {},
   "outputs": [
    {
     "name": "stdout",
     "output_type": "stream",
     "text": [
      "19000\n"
     ]
    }
   ],
   "source": [
    "print(df['Price'].min())"
   ]
  },
  {
   "cell_type": "code",
   "execution_count": 12,
   "id": "44255349-9537-4619-a6e2-95b2322a4d9b",
   "metadata": {},
   "outputs": [
    {
     "name": "stdout",
     "output_type": "stream",
     "text": [
      "11122.050170719425\n"
     ]
    }
   ],
   "source": [
    "print(df['Price'].std())"
   ]
  },
  {
   "cell_type": "code",
   "execution_count": null,
   "id": "26990ddb-9bc7-4e75-a844-a237627f043a",
   "metadata": {},
   "outputs": [],
   "source": []
  }
 ],
 "metadata": {
  "kernelspec": {
   "display_name": "Python 3 (ipykernel)",
   "language": "python",
   "name": "python3"
  },
  "language_info": {
   "codemirror_mode": {
    "name": "ipython",
    "version": 3
   },
   "file_extension": ".py",
   "mimetype": "text/x-python",
   "name": "python",
   "nbconvert_exporter": "python",
   "pygments_lexer": "ipython3",
   "version": "3.11.7"
  }
 },
 "nbformat": 4,
 "nbformat_minor": 5
}
