{
 "cells": [
  {
   "cell_type": "code",
   "execution_count": 1,
   "id": "02d9718a-4cba-4ce3-8355-bc0dc76010c6",
   "metadata": {},
   "outputs": [],
   "source": [
    "from scipy.stats import f_oneway"
   ]
  },
  {
   "cell_type": "code",
   "execution_count": 2,
   "id": "bf8a5b22-c1b3-4d92-b480-cccbc073d9f1",
   "metadata": {},
   "outputs": [],
   "source": [
    "performance1 = [89,89,88,78,79]\n",
    "performance2 = [93,92,94,98,98]\n",
    "performance3 = [89,88,89,93,90]\n",
    "performance4 = [81,78,81,92,82]"
   ]
  },
  {
   "cell_type": "code",
   "execution_count": 3,
   "id": "19dae1e0-cf80-45b1-958e-5699f2d53651",
   "metadata": {},
   "outputs": [
    {
     "data": {
      "text/plain": [
       "F_onewayResult(statistic=8.445374244537422, pvalue=0.0013618232145063691)"
      ]
     },
     "execution_count": 3,
     "metadata": {},
     "output_type": "execute_result"
    }
   ],
   "source": [
    "#Conduct the one way ANOVA\n",
    "f_oneway(performance1,performance2,performance3,performance4)"
   ]
  },
  {
   "cell_type": "code",
   "execution_count": 4,
   "id": "494f6623-74f3-49b8-96b5-a5f5ff9a5ecd",
   "metadata": {},
   "outputs": [],
   "source": [
    "#enter exam scores for each group"
   ]
  },
  {
   "cell_type": "code",
   "execution_count": 5,
   "id": "9d3ed9bc-4a19-4d6a-a377-497037e50a79",
   "metadata": {},
   "outputs": [],
   "source": [
    "group1 = [85,86,88,75,78,94,98,79,71,80]\n",
    "group2 = [91,92,93,85,87,84,82,88,95,96]\n",
    "group3 = [79,78,88,94,92,85,83,85,]"
   ]
  },
  {
   "cell_type": "code",
   "execution_count": 10,
   "id": "4d71e1a4-d934-4109-8793-c14238cc5915",
   "metadata": {},
   "outputs": [],
   "source": [
    "#2 way anova\n",
    "import pandas as pd\n",
    "import numpy as np"
   ]
  },
  {
   "cell_type": "code",
   "execution_count": 11,
   "id": "04bd7b89-fc05-4c39-817a-5092700d43cc",
   "metadata": {},
   "outputs": [],
   "source": [
    "df = pd.DataFrame({'Fertilizer':np.repeat([\"A\",\"B\"],15),'Watering':np.repeat(['daily','weekly'],15),'height':[14,16,15,15,16,13,12,11,14,15,16,16,17,18,14,13,14,14,14,15,16,16,17,18,14,13,14,14,14,15]})"
   ]
  },
  {
   "cell_type": "code",
   "execution_count": 16,
   "id": "1ab24cb2-ca1a-4dbc-a368-cfcf5d9dfd59",
   "metadata": {},
   "outputs": [
    {
     "data": {
      "text/html": [
       "<div>\n",
       "<style scoped>\n",
       "    .dataframe tbody tr th:only-of-type {\n",
       "        vertical-align: middle;\n",
       "    }\n",
       "\n",
       "    .dataframe tbody tr th {\n",
       "        vertical-align: top;\n",
       "    }\n",
       "\n",
       "    .dataframe thead th {\n",
       "        text-align: right;\n",
       "    }\n",
       "</style>\n",
       "<table border=\"1\" class=\"dataframe\">\n",
       "  <thead>\n",
       "    <tr style=\"text-align: right;\">\n",
       "      <th></th>\n",
       "      <th>Fertilizer</th>\n",
       "      <th>Watering</th>\n",
       "      <th>height</th>\n",
       "    </tr>\n",
       "  </thead>\n",
       "  <tbody>\n",
       "    <tr>\n",
       "      <th>0</th>\n",
       "      <td>A</td>\n",
       "      <td>daily</td>\n",
       "      <td>14</td>\n",
       "    </tr>\n",
       "    <tr>\n",
       "      <th>1</th>\n",
       "      <td>A</td>\n",
       "      <td>daily</td>\n",
       "      <td>16</td>\n",
       "    </tr>\n",
       "    <tr>\n",
       "      <th>2</th>\n",
       "      <td>A</td>\n",
       "      <td>daily</td>\n",
       "      <td>15</td>\n",
       "    </tr>\n",
       "    <tr>\n",
       "      <th>3</th>\n",
       "      <td>A</td>\n",
       "      <td>daily</td>\n",
       "      <td>15</td>\n",
       "    </tr>\n",
       "    <tr>\n",
       "      <th>4</th>\n",
       "      <td>A</td>\n",
       "      <td>daily</td>\n",
       "      <td>16</td>\n",
       "    </tr>\n",
       "  </tbody>\n",
       "</table>\n",
       "</div>"
      ],
      "text/plain": [
       "  Fertilizer Watering  height\n",
       "0          A    daily      14\n",
       "1          A    daily      16\n",
       "2          A    daily      15\n",
       "3          A    daily      15\n",
       "4          A    daily      16"
      ]
     },
     "execution_count": 16,
     "metadata": {},
     "output_type": "execute_result"
    }
   ],
   "source": [
    "df.head()"
   ]
  },
  {
   "cell_type": "code",
   "execution_count": 14,
   "id": "972e0a16-0644-48d1-bd7b-a03d4de6af58",
   "metadata": {},
   "outputs": [],
   "source": [
    "import statsmodels.api as sm\n",
    "from statsmodels.formula.api import ols"
   ]
  },
  {
   "cell_type": "code",
   "execution_count": 15,
   "id": "c1a7db6a-5719-4bfa-8016-d6f19b26fc72",
   "metadata": {},
   "outputs": [
    {
     "name": "stdout",
     "output_type": "stream",
     "text": [
      "                             df     sum_sq   mean_sq         F    PR(>F)\n",
      "C(Fertilizer)               1.0   0.033333  0.033333  0.012069  0.913305\n",
      "C(Watering)                 1.0   1.027463  1.027463  0.372012  0.546828\n",
      "C(Fertilizer):C(Watering)   1.0   0.577010  0.577010  0.208918  0.651144\n",
      "Residual                   28.0  77.333333  2.761905       NaN       NaN\n"
     ]
    }
   ],
   "source": [
    "model = ols(\"height ~ C(Fertilizer)+C(Watering)+ C(Fertilizer) : C(Watering)\", data = df).fit()\n",
    "result = sm.stats.anova_lm(model, type=2)\n",
    "print(result)"
   ]
  },
  {
   "cell_type": "markdown",
   "id": "58bcbdcc-1df6-4c3e-93c3-24cd0efdfa19",
   "metadata": {},
   "source": [
    "The p-values for water and fertilizer turn out to be more than 0.05 which implies that the means of both the factors do not possess a statistically significant effect on plant height. The p-value for the interaction effect (0.904053) is greater than 0.05 which depicts that there is no significant interaction between fertilizer frequency and watering frequency."
   ]
  },
  {
   "cell_type": "code",
   "execution_count": 18,
   "id": "b4927aef-31e8-4645-8a74-125e738934b1",
   "metadata": {},
   "outputs": [
    {
     "name": "stdout",
     "output_type": "stream",
     "text": [
      "Defaulting to user installation because normal site-packages is not writeable\n",
      "Collecting rdatasets\n",
      "  Downloading rdatasets-0.2.10-py3-none-any.whl.metadata (44 kB)\n",
      "     ---------------------------------------- 0.0/44.8 kB ? eta -:--:--\n",
      "     -------------------------- ----------- 30.7/44.8 kB 660.6 kB/s eta 0:00:01\n",
      "     -------------------------------------- 44.8/44.8 kB 734.6 kB/s eta 0:00:00\n",
      "Requirement already satisfied: pandas in c:\\programdata\\anaconda3\\lib\\site-packages (from rdatasets) (2.1.4)\n",
      "Requirement already satisfied: numpy<2,>=1.23.2 in c:\\programdata\\anaconda3\\lib\\site-packages (from pandas->rdatasets) (1.26.4)\n",
      "Requirement already satisfied: python-dateutil>=2.8.2 in c:\\programdata\\anaconda3\\lib\\site-packages (from pandas->rdatasets) (2.8.2)\n",
      "Requirement already satisfied: pytz>=2020.1 in c:\\programdata\\anaconda3\\lib\\site-packages (from pandas->rdatasets) (2023.3.post1)\n",
      "Requirement already satisfied: tzdata>=2022.1 in c:\\programdata\\anaconda3\\lib\\site-packages (from pandas->rdatasets) (2023.3)\n",
      "Requirement already satisfied: six>=1.5 in c:\\programdata\\anaconda3\\lib\\site-packages (from python-dateutil>=2.8.2->pandas->rdatasets) (1.16.0)\n",
      "Downloading rdatasets-0.2.10-py3-none-any.whl (50.1 MB)\n",
      "   ---------------------------------------- 0.0/50.1 MB ? eta -:--:--\n",
      "   ---------------------------------------- 0.1/50.1 MB 3.6 MB/s eta 0:00:14\n",
      "   ---------------------------------------- 0.3/50.1 MB 3.8 MB/s eta 0:00:14\n",
      "    --------------------------------------- 0.7/50.1 MB 5.9 MB/s eta 0:00:09\n",
      "   - -------------------------------------- 1.4/50.1 MB 8.6 MB/s eta 0:00:06\n",
      "   - -------------------------------------- 1.9/50.1 MB 9.4 MB/s eta 0:00:06\n",
      "   -- ------------------------------------- 2.6/50.1 MB 10.9 MB/s eta 0:00:05\n",
      "   -- ------------------------------------- 3.4/50.1 MB 12.1 MB/s eta 0:00:04\n",
      "   --- ------------------------------------ 4.1/50.1 MB 12.6 MB/s eta 0:00:04\n",
      "   ---- ----------------------------------- 5.1/50.1 MB 14.1 MB/s eta 0:00:04\n",
      "   ---- ----------------------------------- 5.8/50.1 MB 14.8 MB/s eta 0:00:03\n",
      "   ----- ---------------------------------- 6.7/50.1 MB 15.3 MB/s eta 0:00:03\n",
      "   ------ --------------------------------- 7.5/50.1 MB 15.6 MB/s eta 0:00:03\n",
      "   ------ --------------------------------- 8.4/50.1 MB 16.4 MB/s eta 0:00:03\n",
      "   ------- -------------------------------- 9.6/50.1 MB 17.0 MB/s eta 0:00:03\n",
      "   -------- ------------------------------- 10.5/50.1 MB 19.9 MB/s eta 0:00:02\n",
      "   --------- ------------------------------ 11.6/50.1 MB 21.1 MB/s eta 0:00:02\n",
      "   --------- ------------------------------ 12.5/50.1 MB 21.8 MB/s eta 0:00:02\n",
      "   ---------- ----------------------------- 13.3/50.1 MB 22.6 MB/s eta 0:00:02\n",
      "   ----------- ---------------------------- 14.0/50.1 MB 21.9 MB/s eta 0:00:02\n",
      "   ----------- ---------------------------- 14.4/50.1 MB 22.6 MB/s eta 0:00:02\n",
      "   ----------- ---------------------------- 14.7/50.1 MB 20.5 MB/s eta 0:00:02\n",
      "   ------------ --------------------------- 15.5/50.1 MB 19.9 MB/s eta 0:00:02\n",
      "   ------------- -------------------------- 16.5/50.1 MB 19.9 MB/s eta 0:00:02\n",
      "   -------------- ------------------------- 17.7/50.1 MB 21.1 MB/s eta 0:00:02\n",
      "   --------------- ------------------------ 19.0/50.1 MB 21.9 MB/s eta 0:00:02\n",
      "   --------------- ------------------------ 20.0/50.1 MB 21.1 MB/s eta 0:00:02\n",
      "   ---------------- ----------------------- 21.1/50.1 MB 21.9 MB/s eta 0:00:02\n",
      "   ----------------- ---------------------- 22.3/50.1 MB 21.9 MB/s eta 0:00:02\n",
      "   ------------------ --------------------- 23.5/50.1 MB 21.8 MB/s eta 0:00:02\n",
      "   ------------------- -------------------- 24.8/50.1 MB 26.2 MB/s eta 0:00:01\n",
      "   -------------------- ------------------- 25.8/50.1 MB 27.3 MB/s eta 0:00:01\n",
      "   --------------------- ------------------ 27.1/50.1 MB 29.7 MB/s eta 0:00:01\n",
      "   ---------------------- ----------------- 27.6/50.1 MB 29.7 MB/s eta 0:00:01\n",
      "   ---------------------- ----------------- 28.7/50.1 MB 27.3 MB/s eta 0:00:01\n",
      "   ----------------------- ---------------- 29.8/50.1 MB 27.3 MB/s eta 0:00:01\n",
      "   ------------------------ --------------- 31.1/50.1 MB 28.4 MB/s eta 0:00:01\n",
      "   ------------------------- -------------- 32.2/50.1 MB 28.4 MB/s eta 0:00:01\n",
      "   -------------------------- ------------- 33.3/50.1 MB 27.3 MB/s eta 0:00:01\n",
      "   --------------------------- ------------ 33.9/50.1 MB 26.2 MB/s eta 0:00:01\n",
      "   --------------------------- ------------ 33.9/50.1 MB 26.2 MB/s eta 0:00:01\n",
      "   ---------------------------- ----------- 36.1/50.1 MB 26.2 MB/s eta 0:00:01\n",
      "   ---------------------------- ----------- 36.1/50.1 MB 26.2 MB/s eta 0:00:01\n",
      "   ------------------------------ --------- 38.3/50.1 MB 27.3 MB/s eta 0:00:01\n",
      "   ------------------------------- -------- 39.3/50.1 MB 27.3 MB/s eta 0:00:01\n",
      "   -------------------------------- ------- 40.2/50.1 MB 26.2 MB/s eta 0:00:01\n",
      "   --------------------------------- ------ 41.3/50.1 MB 26.2 MB/s eta 0:00:01\n",
      "   --------------------------------- ------ 42.3/50.1 MB 25.2 MB/s eta 0:00:01\n",
      "   ---------------------------------- ----- 43.1/50.1 MB 25.2 MB/s eta 0:00:01\n",
      "   ----------------------------------- ---- 44.1/50.1 MB 31.2 MB/s eta 0:00:01\n",
      "   ------------------------------------ --- 45.1/50.1 MB 28.5 MB/s eta 0:00:01\n",
      "   ------------------------------------ --- 46.2/50.1 MB 25.2 MB/s eta 0:00:01\n",
      "   ------------------------------------- -- 47.3/50.1 MB 27.3 MB/s eta 0:00:01\n",
      "   -------------------------------------- - 48.0/50.1 MB 25.2 MB/s eta 0:00:01\n",
      "   ---------------------------------------  48.9/50.1 MB 25.1 MB/s eta 0:00:01\n",
      "   ---------------------------------------  49.8/50.1 MB 24.3 MB/s eta 0:00:01\n",
      "   ---------------------------------------  50.1/50.1 MB 24.2 MB/s eta 0:00:01\n",
      "   ---------------------------------------- 50.1/50.1 MB 21.1 MB/s eta 0:00:00\n",
      "Installing collected packages: rdatasets\n",
      "Successfully installed rdatasets-0.2.10\n",
      "Note: you may need to restart the kernel to use updated packages.\n"
     ]
    }
   ],
   "source": [
    "pip install rdatasets"
   ]
  },
  {
   "cell_type": "code",
   "execution_count": 19,
   "id": "ee83bcb9-c17d-4c66-a0e0-8fb87541ed8c",
   "metadata": {},
   "outputs": [
    {
     "data": {
      "text/html": [
       "<div>\n",
       "<style scoped>\n",
       "    .dataframe tbody tr th:only-of-type {\n",
       "        vertical-align: middle;\n",
       "    }\n",
       "\n",
       "    .dataframe tbody tr th {\n",
       "        vertical-align: top;\n",
       "    }\n",
       "\n",
       "    .dataframe thead th {\n",
       "        text-align: right;\n",
       "    }\n",
       "</style>\n",
       "<table border=\"1\" class=\"dataframe\">\n",
       "  <thead>\n",
       "    <tr style=\"text-align: right;\">\n",
       "      <th></th>\n",
       "      <th>rownames</th>\n",
       "      <th>agegp</th>\n",
       "      <th>alcgp</th>\n",
       "      <th>tobgp</th>\n",
       "      <th>ncases</th>\n",
       "      <th>ncontrols</th>\n",
       "    </tr>\n",
       "  </thead>\n",
       "  <tbody>\n",
       "    <tr>\n",
       "      <th>0</th>\n",
       "      <td>1</td>\n",
       "      <td>25-34</td>\n",
       "      <td>0-39g/day</td>\n",
       "      <td>0-9g/day</td>\n",
       "      <td>0</td>\n",
       "      <td>40</td>\n",
       "    </tr>\n",
       "    <tr>\n",
       "      <th>1</th>\n",
       "      <td>2</td>\n",
       "      <td>25-34</td>\n",
       "      <td>0-39g/day</td>\n",
       "      <td>10-19</td>\n",
       "      <td>0</td>\n",
       "      <td>10</td>\n",
       "    </tr>\n",
       "    <tr>\n",
       "      <th>2</th>\n",
       "      <td>3</td>\n",
       "      <td>25-34</td>\n",
       "      <td>0-39g/day</td>\n",
       "      <td>20-29</td>\n",
       "      <td>0</td>\n",
       "      <td>6</td>\n",
       "    </tr>\n",
       "    <tr>\n",
       "      <th>3</th>\n",
       "      <td>4</td>\n",
       "      <td>25-34</td>\n",
       "      <td>0-39g/day</td>\n",
       "      <td>30+</td>\n",
       "      <td>0</td>\n",
       "      <td>5</td>\n",
       "    </tr>\n",
       "    <tr>\n",
       "      <th>4</th>\n",
       "      <td>5</td>\n",
       "      <td>25-34</td>\n",
       "      <td>40-79</td>\n",
       "      <td>0-9g/day</td>\n",
       "      <td>0</td>\n",
       "      <td>27</td>\n",
       "    </tr>\n",
       "  </tbody>\n",
       "</table>\n",
       "</div>"
      ],
      "text/plain": [
       "   rownames  agegp      alcgp     tobgp  ncases  ncontrols\n",
       "0         1  25-34  0-39g/day  0-9g/day       0         40\n",
       "1         2  25-34  0-39g/day     10-19       0         10\n",
       "2         3  25-34  0-39g/day     20-29       0          6\n",
       "3         4  25-34  0-39g/day       30+       0          5\n",
       "4         5  25-34      40-79  0-9g/day       0         27"
      ]
     },
     "execution_count": 19,
     "metadata": {},
     "output_type": "execute_result"
    }
   ],
   "source": [
    "#age group or alcohol consumption. Does the interaction b/w these 2 factors the number of cancer cases?\n",
    "from rdatasets import data\n",
    "data=data('esoph')\n",
    "data.head()"
   ]
  },
  {
   "cell_type": "code",
   "execution_count": 22,
   "id": "62206837-1d6a-4a17-bd38-d9f0daf15b7f",
   "metadata": {},
   "outputs": [],
   "source": [
    "model = ols(\"ncases ~ C(alcgp)+C(agegp)+C(alcgp):C(agegp)\", data = data).fit()"
   ]
  },
  {
   "cell_type": "code",
   "execution_count": 23,
   "id": "60722161-9585-4b7a-834e-6c88330c4767",
   "metadata": {},
   "outputs": [
    {
     "data": {
      "text/html": [
       "<div>\n",
       "<style scoped>\n",
       "    .dataframe tbody tr th:only-of-type {\n",
       "        vertical-align: middle;\n",
       "    }\n",
       "\n",
       "    .dataframe tbody tr th {\n",
       "        vertical-align: top;\n",
       "    }\n",
       "\n",
       "    .dataframe thead th {\n",
       "        text-align: right;\n",
       "    }\n",
       "</style>\n",
       "<table border=\"1\" class=\"dataframe\">\n",
       "  <thead>\n",
       "    <tr style=\"text-align: right;\">\n",
       "      <th></th>\n",
       "      <th>df</th>\n",
       "      <th>sum_sq</th>\n",
       "      <th>mean_sq</th>\n",
       "      <th>F</th>\n",
       "      <th>PR(&gt;F)</th>\n",
       "    </tr>\n",
       "  </thead>\n",
       "  <tbody>\n",
       "    <tr>\n",
       "      <th>C(alcgp)</th>\n",
       "      <td>3.0</td>\n",
       "      <td>46.870695</td>\n",
       "      <td>15.623565</td>\n",
       "      <td>4.201295</td>\n",
       "      <td>8.916156e-03</td>\n",
       "    </tr>\n",
       "    <tr>\n",
       "      <th>C(agegp)</th>\n",
       "      <td>5.0</td>\n",
       "      <td>267.026108</td>\n",
       "      <td>53.405222</td>\n",
       "      <td>14.361068</td>\n",
       "      <td>2.021935e-09</td>\n",
       "    </tr>\n",
       "    <tr>\n",
       "      <th>C(alcgp):C(agegp)</th>\n",
       "      <td>15.0</td>\n",
       "      <td>107.557743</td>\n",
       "      <td>7.170516</td>\n",
       "      <td>1.928206</td>\n",
       "      <td>3.632710e-02</td>\n",
       "    </tr>\n",
       "    <tr>\n",
       "      <th>Residual</th>\n",
       "      <td>64.0</td>\n",
       "      <td>238.000000</td>\n",
       "      <td>3.718750</td>\n",
       "      <td>NaN</td>\n",
       "      <td>NaN</td>\n",
       "    </tr>\n",
       "  </tbody>\n",
       "</table>\n",
       "</div>"
      ],
      "text/plain": [
       "                     df      sum_sq    mean_sq          F        PR(>F)\n",
       "C(alcgp)            3.0   46.870695  15.623565   4.201295  8.916156e-03\n",
       "C(agegp)            5.0  267.026108  53.405222  14.361068  2.021935e-09\n",
       "C(alcgp):C(agegp)  15.0  107.557743   7.170516   1.928206  3.632710e-02\n",
       "Residual           64.0  238.000000   3.718750        NaN           NaN"
      ]
     },
     "execution_count": 23,
     "metadata": {},
     "output_type": "execute_result"
    }
   ],
   "source": [
    "sm.stats.anova_lm(model, type=2)"
   ]
  },
  {
   "cell_type": "markdown",
   "id": "97ab0f2f-5d6d-433d-b248-5cbbbf65c0a1",
   "metadata": {},
   "source": [
    "The p value for the interaction of age group and alcohol consumption is less than alpha, so we can reject the null hypothesis that age group and alcohol consumption do not interact with regards to the number of esophegal cancer cases. That is, we have reason to believe that their interaction does not affect the outcome."
   ]
  },
  {
   "cell_type": "code",
   "execution_count": null,
   "id": "8e9ee76e-8fc4-4f94-9d39-485de0fdb584",
   "metadata": {},
   "outputs": [],
   "source": []
  }
 ],
 "metadata": {
  "kernelspec": {
   "display_name": "Python 3 (ipykernel)",
   "language": "python",
   "name": "python3"
  },
  "language_info": {
   "codemirror_mode": {
    "name": "ipython",
    "version": 3
   },
   "file_extension": ".py",
   "mimetype": "text/x-python",
   "name": "python",
   "nbconvert_exporter": "python",
   "pygments_lexer": "ipython3",
   "version": "3.11.7"
  }
 },
 "nbformat": 4,
 "nbformat_minor": 5
}
