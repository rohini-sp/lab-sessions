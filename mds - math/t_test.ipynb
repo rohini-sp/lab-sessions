{
 "cells": [
  {
   "cell_type": "code",
   "execution_count": 1,
   "id": "4e3b4f06-623c-4437-b18b-67ba7da601a7",
   "metadata": {},
   "outputs": [],
   "source": [
    "from scipy import stats\n",
    "import numpy as np"
   ]
  },
  {
   "cell_type": "code",
   "execution_count": 2,
   "id": "ec1b1460-feb6-4a09-9908-7224415543c3",
   "metadata": {},
   "outputs": [],
   "source": [
    "sample_A = np.array([78,84,92,88,75,80,85,90,87,79,78,84,92,88,75,80,85,90,87,79])\n",
    "sample_B = np.array([82,88,75,90,78,85,88,77,92,80,82,88,75,90,78,85,88,77,92,80])"
   ]
  },
  {
   "cell_type": "code",
   "execution_count": 3,
   "id": "a462b489-1f1f-46b5-8ef5-543e78427459",
   "metadata": {},
   "outputs": [],
   "source": [
    "t_stats,p_val = stats.ttest_ind(sample_A,sample_B)"
   ]
  },
  {
   "cell_type": "code",
   "execution_count": 4,
   "id": "f1f771ad-c547-44c1-9de4-1c4a05aa5c81",
   "metadata": {},
   "outputs": [
    {
     "data": {
      "text/plain": [
       "0.866845086698939"
      ]
     },
     "execution_count": 4,
     "metadata": {},
     "output_type": "execute_result"
    }
   ],
   "source": [
    "p_val"
   ]
  },
  {
   "cell_type": "code",
   "execution_count": 5,
   "id": "7b93cf20-2e4d-45a8-ae3d-3b86d8dcfcb1",
   "metadata": {},
   "outputs": [],
   "source": [
    "alpha=0.05"
   ]
  },
  {
   "cell_type": "code",
   "execution_count": 6,
   "id": "4eb03218-db31-403c-822d-dd0db9a7ebbb",
   "metadata": {},
   "outputs": [],
   "source": [
    "df=len(sample_A)+len(sample_B)-2"
   ]
  },
  {
   "cell_type": "code",
   "execution_count": 7,
   "id": "ca12299a-3435-4908-a8c0-83a33604692a",
   "metadata": {},
   "outputs": [
    {
     "data": {
      "text/plain": [
       "38"
      ]
     },
     "execution_count": 7,
     "metadata": {},
     "output_type": "execute_result"
    }
   ],
   "source": [
    "df"
   ]
  },
  {
   "cell_type": "code",
   "execution_count": 8,
   "id": "5c5dd120-b657-4816-a811-bbbc593c733a",
   "metadata": {},
   "outputs": [],
   "source": [
    "critical_t=stats.t.ppf(1-alpha/2,df)"
   ]
  },
  {
   "cell_type": "code",
   "execution_count": 9,
   "id": "b5c9cbf1-1bfc-4a0a-9f78-be8d50154088",
   "metadata": {},
   "outputs": [
    {
     "data": {
      "text/plain": [
       "2.024394164575136"
      ]
     },
     "execution_count": 9,
     "metadata": {},
     "output_type": "execute_result"
    }
   ],
   "source": [
    "critical_t"
   ]
  },
  {
   "cell_type": "code",
   "execution_count": 10,
   "id": "bc57cc4a-3b1e-494d-adb0-9925235e9e37",
   "metadata": {},
   "outputs": [
    {
     "data": {
      "text/plain": [
       "0.16880536363378446"
      ]
     },
     "execution_count": 10,
     "metadata": {},
     "output_type": "execute_result"
    }
   ],
   "source": [
    "t_stats"
   ]
  },
  {
   "cell_type": "markdown",
   "id": "49d71d00-224a-4bee-b6b0-c30cb418dfd4",
   "metadata": {},
   "source": [
    "With T-value, of 0.168 is less than the critical value of 2.024. Therefore, significant difference is found between the exam scores of teaching method A and B."
   ]
  },
  {
   "cell_type": "markdown",
   "id": "60c629cb-068a-4fd7-8af4-497100951901",
   "metadata": {},
   "source": [
    "With P-value, of 0.866 is greater than the significant level of 0.05. Therefore,there is no evidence to reject the null hypothesis. Therefore, there is no significant difference between the two teaching methods."
   ]
  },
  {
   "cell_type": "code",
   "execution_count": 11,
   "id": "b95f5854-a4d1-4015-8f36-f3e1927019f7",
   "metadata": {},
   "outputs": [],
   "source": [
    "math1 = np.array([4,4,7,16,20,11,13,9,11,15])\n",
    "math2=np.array([15,16,14,14,22,22,23,18,18,19])"
   ]
  },
  {
   "cell_type": "code",
   "execution_count": 12,
   "id": "017acc37-e4ba-4996-b81a-927d0e98d447",
   "metadata": {},
   "outputs": [],
   "source": [
    "t_stats,p_val = stats.ttest_rel(math1,math2)"
   ]
  },
  {
   "cell_type": "code",
   "execution_count": 13,
   "id": "0bd2295e-e543-4b1a-ab70-3c27b85cc1b0",
   "metadata": {},
   "outputs": [
    {
     "data": {
      "text/plain": [
       "-4.953488372093023"
      ]
     },
     "execution_count": 13,
     "metadata": {},
     "output_type": "execute_result"
    }
   ],
   "source": [
    "t_stats"
   ]
  },
  {
   "cell_type": "code",
   "execution_count": 14,
   "id": "c9d0260c-12f7-4fc3-b084-dfe9d69275ed",
   "metadata": {},
   "outputs": [
    {
     "data": {
      "text/plain": [
       "0.0007875235561560145"
      ]
     },
     "execution_count": 14,
     "metadata": {},
     "output_type": "execute_result"
    }
   ],
   "source": [
    "p_val"
   ]
  },
  {
   "cell_type": "code",
   "execution_count": 15,
   "id": "20689b9e-cf46-4945-81ee-c4a809d50823",
   "metadata": {},
   "outputs": [],
   "source": [
    "alpha=0.05"
   ]
  },
  {
   "cell_type": "code",
   "execution_count": 16,
   "id": "45d83309-9fb8-434f-8aa4-a9e59bda3da5",
   "metadata": {},
   "outputs": [],
   "source": [
    "df=len(math2)-1"
   ]
  },
  {
   "cell_type": "code",
   "execution_count": 17,
   "id": "b8a80059-78ef-42c8-9f74-a15cca4c9b46",
   "metadata": {},
   "outputs": [],
   "source": [
    "critical_t=stats.t.ppf(1-alpha/2,df)"
   ]
  },
  {
   "cell_type": "code",
   "execution_count": 18,
   "id": "b74e2cca-b6f7-49c3-a073-5841e35ef51d",
   "metadata": {},
   "outputs": [
    {
     "data": {
      "text/plain": [
       "2.2621571627409915"
      ]
     },
     "execution_count": 18,
     "metadata": {},
     "output_type": "execute_result"
    }
   ],
   "source": [
    "critical_t"
   ]
  },
  {
   "cell_type": "code",
   "execution_count": 19,
   "id": "1d5896f8-4b36-4061-9c40-005d183f09f0",
   "metadata": {},
   "outputs": [],
   "source": [
    "pop_mean=45"
   ]
  },
  {
   "cell_type": "code",
   "execution_count": 20,
   "id": "cea18101-afc2-43f1-a95d-b382991b7e67",
   "metadata": {},
   "outputs": [],
   "source": [
    "sample_mean=75\n",
    "sample_std=25\n",
    "sample_size=25"
   ]
  },
  {
   "cell_type": "code",
   "execution_count": 22,
   "id": "efbc4a60-b358-4e50-b43f-b6f3d131e224",
   "metadata": {},
   "outputs": [],
   "source": [
    "t_stat=(sample_mean -pop_mean )/(sample_std/np.sqrt(sample_size))"
   ]
  },
  {
   "cell_type": "code",
   "execution_count": 23,
   "id": "af3971ab-5aa6-48d4-b765-f00836ecc600",
   "metadata": {},
   "outputs": [
    {
     "data": {
      "text/plain": [
       "6.0"
      ]
     },
     "execution_count": 23,
     "metadata": {},
     "output_type": "execute_result"
    }
   ],
   "source": [
    "t_stat"
   ]
  },
  {
   "cell_type": "code",
   "execution_count": 24,
   "id": "9484d2c2-da6d-47f2-b761-90037eb76bdb",
   "metadata": {},
   "outputs": [],
   "source": [
    "df=sample_size-1"
   ]
  },
  {
   "cell_type": "code",
   "execution_count": 25,
   "id": "6dd41cd3-d242-4723-9697-48e5f81fe438",
   "metadata": {},
   "outputs": [],
   "source": [
    "alpha=0.05"
   ]
  },
  {
   "cell_type": "code",
   "execution_count": 26,
   "id": "19a9891f-1fdd-4ce1-a664-9331b1623c5b",
   "metadata": {},
   "outputs": [],
   "source": [
    "critical_t=stats.t.ppf(1-alpha,df)"
   ]
  },
  {
   "cell_type": "code",
   "execution_count": 27,
   "id": "e0c96457-adb4-413b-ab89-a87fc4bf3ae6",
   "metadata": {},
   "outputs": [
    {
     "data": {
      "text/plain": [
       "1.7108820799094275"
      ]
     },
     "execution_count": 27,
     "metadata": {},
     "output_type": "execute_result"
    }
   ],
   "source": [
    "critical_t"
   ]
  },
  {
   "cell_type": "code",
   "execution_count": 28,
   "id": "af19ff63-e1b8-4841-9b1d-ea2f87486963",
   "metadata": {},
   "outputs": [],
   "source": [
    "p_val =1-stats.t.cdf(t_stat,df)"
   ]
  },
  {
   "cell_type": "code",
   "execution_count": 29,
   "id": "e3f46c2d-a471-46c5-b603-2425f01db362",
   "metadata": {},
   "outputs": [
    {
     "data": {
      "text/plain": [
       "1.703654035845048e-06"
      ]
     },
     "execution_count": 29,
     "metadata": {},
     "output_type": "execute_result"
    }
   ],
   "source": [
    "p_val"
   ]
  },
  {
   "cell_type": "markdown",
   "id": "feabf3c2-5f5c-49dc-a89c-82638e764af5",
   "metadata": {},
   "source": [
    "Reject Ho, there is a significant diffeence between the weight before and after the camp."
   ]
  },
  {
   "cell_type": "code",
   "execution_count": null,
   "id": "a1bc2a8b-80f4-4859-8711-5990c62e2c11",
   "metadata": {},
   "outputs": [],
   "source": []
  }
 ],
 "metadata": {
  "kernelspec": {
   "display_name": "Python 3 (ipykernel)",
   "language": "python",
   "name": "python3"
  },
  "language_info": {
   "codemirror_mode": {
    "name": "ipython",
    "version": 3
   },
   "file_extension": ".py",
   "mimetype": "text/x-python",
   "name": "python",
   "nbconvert_exporter": "python",
   "pygments_lexer": "ipython3",
   "version": "3.11.7"
  }
 },
 "nbformat": 4,
 "nbformat_minor": 5
}
