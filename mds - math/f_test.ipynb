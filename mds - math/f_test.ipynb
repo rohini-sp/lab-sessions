{
 "cells": [
  {
   "cell_type": "code",
   "execution_count": 1,
   "id": "d2b5c35b-5e20-4b9b-9615-98461b38eb79",
   "metadata": {},
   "outputs": [],
   "source": [
    "import numpy as np\n",
    "import scipy.stats"
   ]
  },
  {
   "cell_type": "code",
   "execution_count": 2,
   "id": "04ee39d4-ad91-440e-9198-fedb4a173266",
   "metadata": {},
   "outputs": [],
   "source": [
    "g1 = [0.28,0.2,0.26,0.28,0.5]\n",
    "g2 = [0.2,0.23,0.26,0.21,0.23]"
   ]
  },
  {
   "cell_type": "code",
   "execution_count": 6,
   "id": "075ca3c4-6dd1-4f34-8199-ab3bc2c4e718",
   "metadata": {},
   "outputs": [],
   "source": [
    "x = np.array(g1)\n",
    "y = np.array(g2)"
   ]
  },
  {
   "cell_type": "code",
   "execution_count": 7,
   "id": "bb74aee3-4f0c-4976-88d7-7d3963c679b6",
   "metadata": {},
   "outputs": [
    {
     "name": "stdout",
     "output_type": "stream",
     "text": [
      "0.010464 0.00042400000000000017\n"
     ]
    }
   ],
   "source": [
    "print(np.var(g1),np.var(g2))"
   ]
  },
  {
   "cell_type": "code",
   "execution_count": 8,
   "id": "d3fdb5e4-7ac3-458f-b6b4-3abdb9a8c373",
   "metadata": {},
   "outputs": [],
   "source": [
    "def f_test(g1,g2):\n",
    "    f = np.var(g1,ddof=1)/ np.var(g2,ddof=1)\n",
    "    nun =x.size-1\n",
    "    dun =y.size-1\n",
    "    p_val = 1-scipy.stats.f.cdf(f,nun,dun)\n",
    "    return f, p_val\n",
    "    "
   ]
  },
  {
   "cell_type": "code",
   "execution_count": 9,
   "id": "38ba0335-8f30-4b8b-8ce8-f5289f6873cd",
   "metadata": {},
   "outputs": [
    {
     "data": {
      "text/plain": [
       "(24.679245283018858, 0.004431318383760985)"
      ]
     },
     "execution_count": 9,
     "metadata": {},
     "output_type": "execute_result"
    }
   ],
   "source": [
    "f_test(x,y)"
   ]
  },
  {
   "cell_type": "code",
   "execution_count": 20,
   "id": "8d27da9c-1b07-40d3-9bb0-4e4cf29a3a4e",
   "metadata": {},
   "outputs": [],
   "source": [
    "x = [18,19,22,25,27,28,41,45,51,55]\n",
    "y = [14,15,15,17,18,22,25,25,27,34]"
   ]
  },
  {
   "cell_type": "code",
   "execution_count": 16,
   "id": "1f2176f9-61c1-42dd-aff5-2a295bff2f4c",
   "metadata": {},
   "outputs": [
    {
     "name": "stdout",
     "output_type": "stream",
     "text": [
      "168.29 38.36\n"
     ]
    }
   ],
   "source": [
    "a = np.array(x)\n",
    "b = np.array(y)\n",
    "print(np.var(a),np.var(b))"
   ]
  },
  {
   "cell_type": "code",
   "execution_count": 23,
   "id": "759aba7e-a381-4712-b845-39026c60c0c5",
   "metadata": {},
   "outputs": [],
   "source": [
    "def f_test(x,y):\n",
    "    x = np.array(x)\n",
    "    y = np.array(y)\n",
    "    f = np.var(x,ddof=1)/ np.var(y,ddof=1)\n",
    "    nun =x.size-1\n",
    "    dun =y.size-1\n",
    "    p_val = 1-scipy.stats.f.cdf(f,nun,dun)\n",
    "    return f, p_val"
   ]
  },
  {
   "cell_type": "code",
   "execution_count": 24,
   "id": "02c9e8e7-8305-4d43-8a8d-0642d2ac276b",
   "metadata": {},
   "outputs": [
    {
     "data": {
      "text/plain": [
       "(4.387122002085505, 0.01912653593238578)"
      ]
     },
     "execution_count": 24,
     "metadata": {},
     "output_type": "execute_result"
    }
   ],
   "source": [
    "f_test(x,y)"
   ]
  },
  {
   "cell_type": "code",
   "execution_count": null,
   "id": "f89cd9bf-9ffd-4d69-9192-c79b36162d3b",
   "metadata": {},
   "outputs": [],
   "source": []
  }
 ],
 "metadata": {
  "kernelspec": {
   "display_name": "Python 3 (ipykernel)",
   "language": "python",
   "name": "python3"
  },
  "language_info": {
   "codemirror_mode": {
    "name": "ipython",
    "version": 3
   },
   "file_extension": ".py",
   "mimetype": "text/x-python",
   "name": "python",
   "nbconvert_exporter": "python",
   "pygments_lexer": "ipython3",
   "version": "3.11.7"
  }
 },
 "nbformat": 4,
 "nbformat_minor": 5
}
